{
 "cells": [
  {
   "cell_type": "code",
   "id": "initial_id",
   "metadata": {
    "collapsed": true,
    "ExecuteTime": {
     "end_time": "2025-08-07T22:34:08.984314Z",
     "start_time": "2025-08-07T22:34:05.762181Z"
    }
   },
   "source": [
    "import sys\n",
    "import pandas as pd\n",
    "import numpy as np\n",
    "import os\n",
    "from scipy.ndimage import rotate\n",
    "import scipy.ndimage\n",
    "from joblib import Parallel, delayed\n",
    "import multiprocessing\n",
    "import itertools\n",
    "import pydicom\n",
    "import SimpleITK as sitk\n",
    "from scipy.ndimage import zoom\n",
    "from sklearn.model_selection import train_test_split\n",
    "\n",
    "#Code from existing github repo provided by UC Irvine dataset\n",
    "sys.path.append(os.getcwd())\n",
    "import utils\n",
    "import equalizer\n",
    "from utils import cutCube\n",
    "from equalizer import histEq\n"
   ],
   "outputs": [],
   "execution_count": 1
  },
  {
   "metadata": {
    "ExecuteTime": {
     "end_time": "2025-08-07T22:34:11.115907Z",
     "start_time": "2025-08-07T22:34:11.107075Z"
    }
   },
   "cell_type": "code",
   "source": [
    "processed_training_data = \"/Users/ugorur/PycharmProjects/PythonProject/MIDS_207_Final_Project/lungdeepfake/combined_tampered_scans_dataset_train.npy\"\n",
    "processed_training_labels = \"/Users/ugorur/PycharmProjects/PythonProject/MIDS_207_Final_Project/lungdeepfake/combined_tampered_scans_dataset_train_labels.npy\"\n",
    "\n",
    "processed_val_data = \"/Users/ugorur/PycharmProjects/PythonProject/MIDS_207_Final_Project/lungdeepfake/combined_tampered_scans_dataset_val.npy\"\n",
    "processed_val_labels = \"/Users/ugorur/PycharmProjects/PythonProject/MIDS_207_Final_Project/lungdeepfake/combined_tampered_scans_dataset_val_labels.npy\"\n",
    "\n",
    "processed_test_data = \"/Users/ugorur/PycharmProjects/PythonProject/MIDS_207_Final_Project/lungdeepfake/combined_tampered_scans_dataset_test.npy\"\n",
    "processed_test_labels = \"/Users/ugorur/PycharmProjects/PythonProject/MIDS_207_Final_Project/lungdeepfake/combined_tampered_scans_dataset_test_labels.npy\"\n"
   ],
   "id": "a06da8929f32b669",
   "outputs": [],
   "execution_count": 2
  },
  {
   "metadata": {
    "ExecuteTime": {
     "end_time": "2025-08-07T22:34:12.899247Z",
     "start_time": "2025-08-07T22:34:11.179043Z"
    }
   },
   "cell_type": "code",
   "source": [
    "from sklearn.preprocessing import LabelEncoder\n",
    "\n",
    "# Loading Training data\n",
    "loaded_train_data = np.load(processed_training_data)\n",
    "loaded_train_labels = np.load(processed_training_labels)\n",
    "\n",
    "# Loading Validation data\n",
    "loaded_val_data = np.load(processed_val_data)\n",
    "loaded_val_labels = np.load(processed_val_labels)\n",
    "\n",
    "# Loading Test data\n",
    "loaded_test_data = np.load(processed_test_data)\n",
    "loaded_test_labels = np.load(processed_test_labels)\n",
    "\n",
    "le = LabelEncoder()\n",
    "transformed_train_labels = le.fit_transform(loaded_train_labels)\n",
    "transformed_val_labels = le.transform(loaded_val_labels)\n",
    "transformed_test_labels = le.transform(loaded_test_labels)\n",
    "\n",
    "print(f'Shape of training data: {loaded_train_data.shape}, Shape of training labels: {transformed_train_labels.shape}')\n",
    "print(f'Shape of validation data: {loaded_val_data.shape}, Shape of training labels: {transformed_val_labels.shape}')\n",
    "print(f'Shape of training data: {loaded_test_data.shape}, Shape of training labels: {transformed_test_labels.shape}')\n"
   ],
   "id": "f70cb1e84186df59",
   "outputs": [
    {
     "name": "stdout",
     "output_type": "stream",
     "text": [
      "Shape of training data: (970, 32, 32, 32), Shape of training labels: (970,)\n",
      "Shape of validation data: (33, 32, 32, 32), Shape of training labels: (33,)\n",
      "Shape of training data: (33, 32, 32, 32), Shape of training labels: (33,)\n"
     ]
    }
   ],
   "execution_count": 3
  },
  {
   "metadata": {
    "ExecuteTime": {
     "end_time": "2025-08-07T22:34:12.955057Z",
     "start_time": "2025-08-07T22:34:12.951288Z"
    }
   },
   "cell_type": "code",
   "source": [
    "train_middle_slices = loaded_train_data[:, 16, :, :]\n",
    "val_middle_slices = loaded_val_data[:, 16, :, :]\n",
    "test_middle_slices = loaded_test_data[:, 16, :, :]\n",
    "\n",
    "print(f'Shape of middle slices: {train_middle_slices.shape}')\n",
    "print(f'Shape of middle slices: {val_middle_slices.shape}')\n",
    "print(f'Shape of middle slices: {test_middle_slices.shape}')\n"
   ],
   "id": "e89044ed68574304",
   "outputs": [
    {
     "name": "stdout",
     "output_type": "stream",
     "text": [
      "Shape of middle slices: (970, 32, 32)\n",
      "Shape of middle slices: (33, 32, 32)\n",
      "Shape of middle slices: (33, 32, 32)\n"
     ]
    }
   ],
   "execution_count": 4
  },
  {
   "metadata": {
    "ExecuteTime": {
     "end_time": "2025-08-07T22:34:13.073656Z",
     "start_time": "2025-08-07T22:34:13.064273Z"
    }
   },
   "cell_type": "code",
   "source": [
    "train_images = train_middle_slices[:,:,:,np.newaxis]\n",
    "val_images = val_middle_slices[:,:,:,np.newaxis]\n",
    "test_images = test_middle_slices[:,:,:,np.newaxis]\n",
    "\n",
    "print(f'Shape of training slices: {train_images.shape}')\n",
    "print(f'Shape of validation slices: {val_images.shape}')\n",
    "print(f'Shape of test slices: {test_images.shape}')\n"
   ],
   "id": "976dcc88c292866e",
   "outputs": [
    {
     "name": "stdout",
     "output_type": "stream",
     "text": [
      "Shape of training slices: (970, 32, 32, 1)\n",
      "Shape of validation slices: (33, 32, 32, 1)\n",
      "Shape of test slices: (33, 32, 32, 1)\n"
     ]
    }
   ],
   "execution_count": 5
  },
  {
   "metadata": {
    "ExecuteTime": {
     "end_time": "2025-08-07T22:34:28.842527Z",
     "start_time": "2025-08-07T22:34:13.148721Z"
    }
   },
   "cell_type": "code",
   "source": [
    "import tensorflow as tf\n",
    "np.random.seed(1234)\n",
    "tf.random.set_seed(1234)"
   ],
   "id": "5bc32ba0e44a4248",
   "outputs": [
    {
     "name": "stderr",
     "output_type": "stream",
     "text": [
      "2025-08-07 15:34:17.012909: I tensorflow/core/platform/cpu_feature_guard.cc:210] This TensorFlow binary is optimized to use available CPU instructions in performance-critical operations.\n",
      "To enable the following instructions: AVX2 FMA, in other operations, rebuild TensorFlow with the appropriate compiler flags.\n"
     ]
    }
   ],
   "execution_count": 6
  },
  {
   "metadata": {
    "ExecuteTime": {
     "end_time": "2025-08-07T22:34:28.906428Z",
     "start_time": "2025-08-07T22:34:28.888711Z"
    }
   },
   "cell_type": "code",
   "source": [
    "from sklearn.utils.class_weight import compute_class_weight\n",
    "\n",
    "class_weights = compute_class_weight(class_weight='balanced',\n",
    "                                     classes=np.unique(transformed_train_labels),\n",
    "                                     y=transformed_train_labels)\n",
    "\n",
    "class_weight_dict = dict(enumerate(class_weights))\n",
    "print(class_weight_dict)"
   ],
   "id": "a04e13d6b2fd1e83",
   "outputs": [
    {
     "name": "stdout",
     "output_type": "stream",
     "text": [
      "{0: 0.5511363636363636, 1: 1.0104166666666667, 2: 2.6944444444444446, 3: 1.2125}\n"
     ]
    }
   ],
   "execution_count": 7
  },
  {
   "metadata": {
    "ExecuteTime": {
     "end_time": "2025-08-07T22:34:29.043518Z",
     "start_time": "2025-08-07T22:34:28.998486Z"
    }
   },
   "cell_type": "code",
   "source": [
    "print(train_images.shape)\n",
    "raw_features_shape = train_images[:,:,:,0].shape[1] * train_images.shape[2] * train_images.shape[3]\n",
    "print(f'Total number of features used for Decision Forests: {raw_features_shape}')"
   ],
   "id": "b1bf821303c1158e",
   "outputs": [
    {
     "name": "stdout",
     "output_type": "stream",
     "text": [
      "(970, 32, 32, 1)\n",
      "Total number of features used for Decision Forests: 1024\n"
     ]
    }
   ],
   "execution_count": 8
  },
  {
   "metadata": {
    "ExecuteTime": {
     "end_time": "2025-08-07T22:34:29.155700Z",
     "start_time": "2025-08-07T22:34:29.148699Z"
    }
   },
   "cell_type": "code",
   "source": [
    "X_train_rf = train_images.reshape(train_images.shape[0],raw_features_shape)\n",
    "X_val_rf = val_images.reshape(val_images.shape[0],raw_features_shape)\n",
    "X_test_rf = test_images.reshape(test_images.shape[0],raw_features_shape)\n",
    "\n",
    "print(f'Shape of training, val, test images: {X_train_rf.shape}, {X_val_rf.shape}, {X_test_rf.shape}')"
   ],
   "id": "3545ea30fc157fc7",
   "outputs": [
    {
     "name": "stdout",
     "output_type": "stream",
     "text": [
      "Shape of training, val, test images: (970, 1024), (33, 1024), (33, 1024)\n"
     ]
    }
   ],
   "execution_count": 9
  },
  {
   "metadata": {
    "ExecuteTime": {
     "end_time": "2025-08-07T22:34:31.031124Z",
     "start_time": "2025-08-07T22:34:29.234787Z"
    }
   },
   "cell_type": "code",
   "source": [
    "from sklearn.ensemble import RandomForestClassifier\n",
    "from sklearn.metrics import accuracy_score\n",
    "random_forest_model = RandomForestClassifier(n_estimators=50,max_features='sqrt',max_depth=8,class_weight='balanced',random_state=42)\n",
    "rf_history = random_forest_model.fit(X_train_rf, transformed_train_labels)\n",
    "\n",
    "rf_train_pred = rf_history.predict(X_train_rf)\n",
    "print(f'Train accuracy: {accuracy_score(transformed_train_labels, rf_train_pred)}')\n",
    "\n",
    "rf_val_pred = rf_history.predict(X_val_rf)\n",
    "print(f'Validation accuracy: {accuracy_score(transformed_val_labels, rf_val_pred)}')\n",
    "\n",
    "rf_test_pred = rf_history.predict(X_test_rf)\n",
    "print(f'Test accuracy: {accuracy_score(transformed_test_labels, rf_test_pred)}')"
   ],
   "id": "e8c2dc0959af0b31",
   "outputs": [
    {
     "name": "stdout",
     "output_type": "stream",
     "text": [
      "Train accuracy: 1.0\n",
      "Validation accuracy: 0.9393939393939394\n",
      "Test accuracy: 0.8787878787878788\n"
     ]
    }
   ],
   "execution_count": 10
  },
  {
   "metadata": {
    "ExecuteTime": {
     "end_time": "2025-08-07T22:34:31.144327Z",
     "start_time": "2025-08-07T22:34:31.105820Z"
    }
   },
   "cell_type": "code",
   "source": [
    "from sklearn.metrics import classification_report\n",
    "\n",
    "print(classification_report(transformed_test_labels, rf_test_pred))"
   ],
   "id": "f098623e552d338d",
   "outputs": [
    {
     "name": "stdout",
     "output_type": "stream",
     "text": [
      "              precision    recall  f1-score   support\n",
      "\n",
      "           0       0.82      1.00      0.90        14\n",
      "           1       0.89      1.00      0.94         8\n",
      "           2       0.00      0.00      0.00         3\n",
      "           3       1.00      0.88      0.93         8\n",
      "\n",
      "    accuracy                           0.88        33\n",
      "   macro avg       0.68      0.72      0.69        33\n",
      "weighted avg       0.81      0.88      0.84        33\n",
      "\n"
     ]
    },
    {
     "name": "stderr",
     "output_type": "stream",
     "text": [
      "/Users/ugorur/Desktop/PyCharm_Projects/.venv/lib/python3.11/site-packages/sklearn/metrics/_classification.py:1731: UndefinedMetricWarning: Precision is ill-defined and being set to 0.0 in labels with no predicted samples. Use `zero_division` parameter to control this behavior.\n",
      "  _warn_prf(average, modifier, f\"{metric.capitalize()} is\", result.shape[0])\n",
      "/Users/ugorur/Desktop/PyCharm_Projects/.venv/lib/python3.11/site-packages/sklearn/metrics/_classification.py:1731: UndefinedMetricWarning: Precision is ill-defined and being set to 0.0 in labels with no predicted samples. Use `zero_division` parameter to control this behavior.\n",
      "  _warn_prf(average, modifier, f\"{metric.capitalize()} is\", result.shape[0])\n",
      "/Users/ugorur/Desktop/PyCharm_Projects/.venv/lib/python3.11/site-packages/sklearn/metrics/_classification.py:1731: UndefinedMetricWarning: Precision is ill-defined and being set to 0.0 in labels with no predicted samples. Use `zero_division` parameter to control this behavior.\n",
      "  _warn_prf(average, modifier, f\"{metric.capitalize()} is\", result.shape[0])\n"
     ]
    }
   ],
   "execution_count": 11
  },
  {
   "metadata": {
    "ExecuteTime": {
     "end_time": "2025-08-07T22:34:31.697604Z",
     "start_time": "2025-08-07T22:34:31.348848Z"
    }
   },
   "cell_type": "code",
   "source": [
    "from sklearn.metrics import confusion_matrix\n",
    "import seaborn as sns\n",
    "import matplotlib.pyplot as plt\n",
    "import numpy as np\n",
    "\n",
    "# Generate confusion matrix\n",
    "cm = confusion_matrix(transformed_test_labels, rf_test_pred)\n",
    "\n",
    "# Get class names from the label encoder\n",
    "class_names = le.classes_\n",
    "\n",
    "# Plot the confusion matrix\n",
    "plt.figure(figsize=(8, 6))\n",
    "sns.heatmap(cm, annot=True, fmt='d', cmap='Blues', xticklabels=class_names, yticklabels=class_names)\n",
    "plt.xlabel('Predicted Label')\n",
    "plt.ylabel('True Label')\n",
    "plt.title('Confusion Matrix')\n",
    "plt.show()"
   ],
   "id": "5c709e4d399f4e8a",
   "outputs": [
    {
     "data": {
      "text/plain": [
       "<Figure size 800x600 with 2 Axes>"
      ],
      "image/png": "[encoded data removed]"
     },
     "metadata": {},
     "output_type": "display_data"
    }
   ],
   "execution_count": 12
  }
 ],
 "metadata": {
  "kernelspec": {
   "display_name": "Python 3",
   "language": "python",
   "name": "python3"
  },
  "language_info": {
   "codemirror_mode": {
    "name": "ipython",
    "version": 2
   },
   "file_extension": ".py",
   "mimetype": "text/x-python",
   "name": "python",
   "nbconvert_exporter": "python",
   "pygments_lexer": "ipython2",
   "version": "2.7.6"
  }
 },
 "nbformat": 4,
 "nbformat_minor": 5
}
