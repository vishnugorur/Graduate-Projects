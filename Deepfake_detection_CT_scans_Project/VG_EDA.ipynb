{
 "cells": [
  {
   "metadata": {
    "ExecuteTime": {
     "end_time": "2025-08-07T21:04:42.438136Z",
     "start_time": "2025-08-07T21:04:34.680605Z"
    }
   },
   "cell_type": "code",
   "source": [
    "import sys\n",
    "import pandas as pd\n",
    "import numpy as np\n",
    "import os\n",
    "from scipy.ndimage import rotate\n",
    "import scipy.ndimage\n",
    "from joblib import Parallel, delayed\n",
    "import multiprocessing\n",
    "import itertools\n",
    "import pydicom\n",
    "import SimpleITK as sitk\n",
    "from scipy.ndimage import zoom\n",
    "from sklearn.model_selection import train_test_split\n",
    "\n",
    "#Code from existing github repo provided by UC Irvine dataset\n",
    "sys.path.append(os.getcwd())\n",
    "import utils\n",
    "import equalizer\n",
    "from utils import cutCube\n",
    "from equalizer import histEq"
   ],
   "id": "259ace434e90ade2",
   "outputs": [],
   "execution_count": 1
  },
  {
   "metadata": {
    "ExecuteTime": {
     "end_time": "2025-08-07T21:04:43.723986Z",
     "start_time": "2025-08-07T21:04:43.711881Z"
    }
   },
   "cell_type": "code",
   "source": [
    "# Modified DICOM loading functions for newer pydicom versions\n",
    "def load_scan(path2scan):\n",
    "    if (path2scan.split('.')[-1] == 'mhd') or (path2scan.split('.')[-1] == 'raw'):\n",
    "        return load_mhd(path2scan)\n",
    "    elif path2scan.split('.')[-1] == 'dcm':\n",
    "        return load_dicom(os.path.split(path2scan)[0]) #pass containing directory\n",
    "    elif os.path.isdir(path2scan) and any(f.endswith('.dcm') for f in os.listdir(path2scan)):\n",
    "        return load_dicom(path2scan)\n",
    "    else:\n",
    "        raise Exception('No valid scan [series] found in given file/directory')\n",
    "\n",
    "def load_mhd(path2scan):\n",
    "    itkimage = sitk.ReadImage(path2scan)\n",
    "    scan = sitk.GetArrayFromImage(itkimage)\n",
    "    spacing = np.flip(np.array(itkimage.GetSpacing()),axis=0)\n",
    "    orientation = np.transpose(np.array(itkimage.GetDirection()).reshape((3, 3)))\n",
    "    origin = np.flip(np.array(itkimage.GetOrigin()),axis=0)\n",
    "    return scan, spacing, orientation, origin, None\n",
    "\n",
    "def load_dicom(path2scan_dir):\n",
    "    dicom_folder = path2scan_dir\n",
    "    dcms = [f for f in os.listdir(dicom_folder) if f.endswith('.dcm')]\n",
    "    if not dcms:\n",
    "        raise Exception(f\"No DICOM files found in {dicom_folder}\")\n",
    "\n",
    "    first_slice_data = pydicom.dcmread(os.path.join(path2scan_dir, dcms[0]))\n",
    "    first_slice = first_slice_data.pixel_array\n",
    "    orientation = np.transpose(first_slice_data.ImageOrientationPatient)\n",
    "    spacing_xy = np.array(first_slice_data.PixelSpacing, dtype=float)\n",
    "    spacing_z = float(first_slice_data.SliceThickness)\n",
    "    spacing = np.array([spacing_z, spacing_xy[1], spacing_xy[0]])\n",
    "\n",
    "    scan = np.zeros((len(dcms), first_slice.shape[0], first_slice.shape[1]))\n",
    "    raw_slices = []\n",
    "    indexes = []\n",
    "\n",
    "    for dcm in dcms:\n",
    "        slice_data = pydicom.dcmread(os.path.join(dicom_folder, dcm))\n",
    "        slice_data.filename = dcm\n",
    "        raw_slices.append(slice_data)\n",
    "        indexes.append(float(slice_data.ImagePositionPatient[2]))\n",
    "\n",
    "    indexes = np.array(indexes, dtype=float)\n",
    "    raw_slices = [x for _, x in sorted(zip(indexes, raw_slices))]\n",
    "\n",
    "    try:\n",
    "        origin = np.array(raw_slices[0][0x00200032].value)\n",
    "        origin = np.array([origin[2], origin[1], origin[0]])\n",
    "    except:\n",
    "        origin = np.zeros(3)\n",
    "\n",
    "    for i, slice_obj in enumerate(raw_slices):\n",
    "        scan[i, :, :] = slice_obj.pixel_array\n",
    "\n",
    "    return scan, spacing, orientation, origin, raw_slices\n",
    "\n",
    "def scale_scan(scan, spacing, factor=1):\n",
    "    resize_factor = factor * spacing\n",
    "    new_real_shape = scan.shape * resize_factor\n",
    "    new_shape = np.round(new_real_shape)\n",
    "    real_resize_factor = new_shape / scan.shape\n",
    "    new_spacing = spacing / real_resize_factor\n",
    "    scan_resized = scipy.ndimage.zoom(scan, real_resize_factor, mode='nearest')\n",
    "    return scan_resized, resize_factor\n",
    "\n",
    "def get_scaled_shape(shape, spacing):\n",
    "    new_real_shape = shape * spacing\n",
    "    return np.round(new_real_shape).astype(int)\n",
    "\n",
    "def world2vox(world_coord, spacing, orientation, origin):\n",
    "    world_coord = np.dot(np.linalg.inv(np.dot(orientation, np.diag(spacing))), world_coord - origin)\n",
    "    if orientation[0, 0] < 0:\n",
    "        vox_coord = (np.array([world_coord[0], world_coord[2], world_coord[1]])).astype(int)\n",
    "    else:\n",
    "        vox_coord = (np.array([world_coord[0], world_coord[1], world_coord[2]])).astype(int)\n",
    "    return vox_coord"
   ],
   "id": "c19e4d7adf5ff972",
   "outputs": [],
   "execution_count": 2
  },
  {
   "metadata": {
    "ExecuteTime": {
     "end_time": "2025-08-07T21:04:43.885560Z",
     "start_time": "2025-08-07T21:04:43.843514Z"
    }
   },
   "cell_type": "code",
   "source": [
    "class CombinedLabeledExtractor:\n",
    "    \"\"\"\n",
    "    Extractor that combines multiple experiments into one dataset\n",
    "    Modified to split data BEFORE augmentation\n",
    "    \"\"\"\n",
    "    def __init__(self,\n",
    "                 experiments_config,\n",
    "                 dst_path,\n",
    "                 norm_save_dir,\n",
    "                 cube_shape=(32, 32, 32),\n",
    "                 parallelize=False,\n",
    "                 coordSystem='vox',\n",
    "                 include_types=['FB', 'FM', 'TM','TB'],\n",
    "                 augment=True,\n",
    "                 train_ratio=0.6,\n",
    "                 val_ratio=0.2,\n",
    "                 test_ratio=0.2,\n",
    "                 random_state=42):\n",
    "        \"\"\"\n",
    "        Args:\n",
    "            experiments_config: List of experiment configurations\n",
    "            dst_path: Where to save the combined processed dataset\n",
    "            norm_save_dir: Where to save normalization parameters\n",
    "            cube_shape: Size of extracted 3D cubes\n",
    "            parallelize: Whether to use multiprocessing\n",
    "            coordSystem: 'vox' for voxel coordinates\n",
    "            include_types: Which finding types to include\n",
    "            augment: Whether to perform data augmentation (only on training set)\n",
    "            train_ratio: Proportion of data for training\n",
    "            val_ratio: Proportion of data for validation\n",
    "            test_ratio: Proportion of data for testing\n",
    "            random_state: Random seed for reproducibility\n",
    "        \"\"\"\n",
    "        self.experiments_config = experiments_config\n",
    "        self.dst_path = dst_path\n",
    "        self.norm_save_dir = norm_save_dir\n",
    "        self.cube_shape = cube_shape\n",
    "        self.parallelize = parallelize\n",
    "        self.coordSystem = coordSystem\n",
    "        self.include_types = include_types\n",
    "        self.augment = augment\n",
    "        self.train_ratio = train_ratio\n",
    "        self.val_ratio = val_ratio\n",
    "        self.test_ratio = test_ratio\n",
    "        self.random_state = random_state\n",
    "\n",
    "        # Load and combine labels from all experiments\n",
    "        self.combined_labels_df = pd.DataFrame()\n",
    "\n",
    "        for exp_config in experiments_config:\n",
    "            print(f\"\\nLoading labels for {exp_config['experiment_name']}...\")\n",
    "\n",
    "            # Load labels for this experiment\n",
    "            labels_df = pd.read_csv(exp_config['labels_csv'])\n",
    "\n",
    "            # Add experiment identifier\n",
    "            labels_df['experiment'] = exp_config['experiment_name']\n",
    "            labels_df['dicom_base_dir'] = exp_config['dicom_dir']\n",
    "\n",
    "            # Filter by type\n",
    "            labels_df = labels_df[labels_df['type'].isin(include_types)]\n",
    "\n",
    "            # Filter out TB entries with 0,0,0 coordinates\n",
    "            # labels_df = labels_df[~((labels_df['type'] == 'TB') &\n",
    "            #                        (labels_df['x'] == 0) &\n",
    "            #                        (labels_df['y'] == 0) &\n",
    "            #                        (labels_df['slice'] == 0))]\n",
    "            #\n",
    "            print(f\"Loaded {len(labels_df)} samples from {exp_config['experiment_name']}\")\n",
    "            print(f\"Types distribution:\\n{labels_df['type'].value_counts()}\")\n",
    "\n",
    "            # Combine with existing labels\n",
    "            self.combined_labels_df = pd.concat([self.combined_labels_df, labels_df],\n",
    "                                                ignore_index=True)\n",
    "\n",
    "        print(f\"\\nTotal combined samples: {len(self.combined_labels_df)}\")\n",
    "        print(f\"Combined types distribution:\\n{self.combined_labels_df['type'].value_counts()}\")\n",
    "        print(f\"Samples per experiment:\\n{self.combined_labels_df['experiment'].value_counts()}\")\n",
    "\n",
    "    def extract(self, plot=True):\n",
    "        \"\"\"Extract and process all labeled samples from all experiments\"\"\"\n",
    "        print(\"\\nPreparing extraction jobs for combined dataset...\")\n",
    "\n",
    "        # create train/val/test split on the original data\n",
    "        train_df, val_df, test_df = self._create_data_splits()\n",
    "\n",
    "        # Process each split separately\n",
    "        splits_data = {}\n",
    "\n",
    "        for split_name, split_df, apply_augment in [\n",
    "            ('train', train_df, self.augment),\n",
    "            ('val', val_df, False),\n",
    "            ('test', test_df, False)\n",
    "        ]:\n",
    "            print(f\"\\n{'='*50}\")\n",
    "            print(f\"Processing {split_name} set ({len(split_df)} samples)...\")\n",
    "            print(f\"Augmentation: {'ON' if apply_augment else 'OFF'}\")\n",
    "\n",
    "            instances, labels, experiments = self._process_split(split_df, apply_augment)\n",
    "\n",
    "            if len(instances) == 0:\n",
    "                print(f\"ERROR: No instances were successfully extracted for {split_name}!\")\n",
    "                continue\n",
    "\n",
    "            splits_data[split_name] = {\n",
    "                'instances': instances,\n",
    "                'labels': labels,\n",
    "                'experiments': experiments\n",
    "            }\n",
    "\n",
    "            print(f\"Successfully extracted {len(instances)} instances for {split_name}\")\n",
    "\n",
    "        # Combine all splits for normalization (but keep track of indices)\n",
    "        all_instances = []\n",
    "        split_indices = {}\n",
    "        current_idx = 0\n",
    "\n",
    "        for split_name in ['train', 'val', 'test']:\n",
    "            if split_name in splits_data:\n",
    "                split_size = len(splits_data[split_name]['instances'])\n",
    "                split_indices[split_name] = (current_idx, current_idx + split_size)\n",
    "                all_instances.extend(splits_data[split_name]['instances'])\n",
    "                current_idx += split_size\n",
    "\n",
    "        all_instances = np.array(all_instances)\n",
    "\n",
    "        # Preprocessing on all data\n",
    "        print(\"\\n\\nEqualizing the data across all splits...\")\n",
    "        eq = histEq(all_instances)\n",
    "        all_instances = eq.equalize(all_instances)\n",
    "        os.makedirs(self.norm_save_dir, exist_ok=True)\n",
    "        eq.save(path=os.path.join(self.norm_save_dir, 'equalization.pkl'))\n",
    "\n",
    "        print(\"Normalizing the data...\")\n",
    "        min_v = np.min(all_instances)\n",
    "        max_v = np.max(all_instances)\n",
    "        mean_v = np.mean(all_instances)\n",
    "        norm_data = np.array([mean_v, min_v, max_v])\n",
    "        all_instances = (all_instances - mean_v) / (max_v - min_v)\n",
    "        np.save(os.path.join(self.norm_save_dir, 'normalization.npy'), norm_data)\n",
    "\n",
    "        # Split back the normalized data\n",
    "        for split_name, (start_idx, end_idx) in split_indices.items():\n",
    "            splits_data[split_name]['instances'] = all_instances[start_idx:end_idx]\n",
    "\n",
    "        # Save each split separately\n",
    "        print(\"\\n\\nSaving the split datasets...\")\n",
    "\n",
    "        for split_name in ['train', 'val', 'test']:\n",
    "            if split_name in splits_data:\n",
    "                split_path = self.dst_path.replace('.npy', f'_{split_name}.npy')\n",
    "                np.save(split_path, splits_data[split_name]['instances'])\n",
    "                np.save(split_path.replace('.npy', '_labels.npy'), splits_data[split_name]['labels'])\n",
    "                np.save(split_path.replace('.npy', '_experiments.npy'), splits_data[split_name]['experiments'])\n",
    "\n",
    "                print(f\"Saved {split_name} set: {len(splits_data[split_name]['instances'])} samples\")\n",
    "\n",
    "        # Save metadata\n",
    "        metadata = {\n",
    "            'label_mapping': {label: int(idx) for idx, label in enumerate(np.unique(self.combined_labels_df['type']))},\n",
    "            'experiment_info': {exp: int(idx) for idx, exp in enumerate(np.unique(self.combined_labels_df['experiment']))},\n",
    "            'split_sizes': {\n",
    "                split_name: len(splits_data[split_name]['instances'])\n",
    "                for split_name in splits_data\n",
    "            },\n",
    "            'split_ratios': {\n",
    "                'train': self.train_ratio,\n",
    "                'val': self.val_ratio,\n",
    "                'test': self.test_ratio\n",
    "            },\n",
    "            'augmentation_applied': {\n",
    "                'train': self.augment,\n",
    "                'val': False,\n",
    "                'test': False\n",
    "            },\n",
    "            'random_state': self.random_state\n",
    "        }\n",
    "\n",
    "        import json\n",
    "        with open(self.dst_path.replace('.npy', '_metadata.json'), 'w') as f:\n",
    "            json.dump(metadata, f, indent=2)\n",
    "\n",
    "        print(f\"\\nLabel mapping: {metadata['label_mapping']}\")\n",
    "        print(f\"Experiment mapping: {metadata['experiment_info']}\")\n",
    "        print(f\"\\nFinal split sizes:\")\n",
    "        for split_name, size in metadata['split_sizes'].items():\n",
    "            print(f\"  {split_name}: {size} samples\")\n",
    "\n",
    "        if plot:\n",
    "            self._plot_split_distributions(splits_data)\n",
    "\n",
    "        return splits_data, metadata\n",
    "\n",
    "    def _create_data_splits(self):\n",
    "        \"\"\"Create train/val/test splits with stratification\"\"\"\n",
    "        print(\"\\nCreating train/val/test splits...\")\n",
    "\n",
    "        # Create stratification key combining type and experiment\n",
    "        self.combined_labels_df['stratify_key'] = (\n",
    "            self.combined_labels_df['type'] + '_' +\n",
    "            self.combined_labels_df['experiment']\n",
    "        )\n",
    "\n",
    "        # First split: train+val vs test\n",
    "        train_val_df, test_df = train_test_split(\n",
    "            self.combined_labels_df,\n",
    "            test_size=self.test_ratio,\n",
    "            stratify=self.combined_labels_df['stratify_key'],\n",
    "            random_state=self.random_state\n",
    "        )\n",
    "\n",
    "        # Second split: train vs val\n",
    "        val_size_adjusted = self.val_ratio / (self.train_ratio + self.val_ratio)\n",
    "        train_df, val_df = train_test_split(\n",
    "            train_val_df,\n",
    "            test_size=val_size_adjusted,\n",
    "            stratify=train_val_df['stratify_key'],\n",
    "            random_state=self.random_state\n",
    "        )\n",
    "\n",
    "        print(f\"Split sizes:\")\n",
    "        print(f\"  Train: {len(train_df)} samples ({len(train_df)/len(self.combined_labels_df)*100:.1f}%)\")\n",
    "        print(f\"  Val: {len(val_df)} samples ({len(val_df)/len(self.combined_labels_df)*100:.1f}%)\")\n",
    "        print(f\"  Test: {len(test_df)} samples ({len(test_df)/len(self.combined_labels_df)*100:.1f}%)\")\n",
    "\n",
    "        # Print distribution per split\n",
    "        for split_name, split_df in [('Train', train_df), ('Val', val_df), ('Test', test_df)]:\n",
    "            print(f\"\\n{split_name} set distribution:\")\n",
    "            print(split_df['type'].value_counts())\n",
    "\n",
    "        return train_df, val_df, test_df\n",
    "\n",
    "    def _process_split(self, split_df, apply_augment):\n",
    "        \"\"\"Process a single data split\"\"\"\n",
    "        jobs = []\n",
    "        labels = []\n",
    "        experiments = []\n",
    "\n",
    "        for idx, row in split_df.iterrows():\n",
    "            # Build path to DICOM scan\n",
    "            scan_path = os.path.join(row['dicom_base_dir'], str(row['uuid']))\n",
    "            scan_path = os.path.normpath(scan_path)\n",
    "\n",
    "            # Coordinate in z,y,x format\n",
    "            coord = np.array([row['slice'], row['y'], row['x']])\n",
    "\n",
    "            # Job format: [scan_path, coord, cube_shape, coordSystem, label_type, apply_augment]\n",
    "            jobs.append([scan_path, coord, self.cube_shape, self.coordSystem, row['type'], apply_augment])\n",
    "            labels.append(row['type'])\n",
    "            experiments.append(row['experiment'])\n",
    "\n",
    "        print(f\"Extracting {len(jobs)} samples...\")\n",
    "\n",
    "        if self.parallelize:\n",
    "            num_cores = int(np.ceil(min(np.ceil(multiprocessing.cpu_count() * 0.75), len(jobs))))\n",
    "            results = Parallel(n_jobs=num_cores)(delayed(self._process_job)(job) for job in jobs)\n",
    "        else:\n",
    "            results = []\n",
    "            for i, job in enumerate(jobs):\n",
    "                try:\n",
    "                    result = self._process_job(job)\n",
    "                    results.append(result)\n",
    "                    if i % 10 == 0:\n",
    "                        print(f\"Processed {i+1}/{len(jobs)} samples\")\n",
    "                except Exception as e:\n",
    "                    print(f\"Failed to process sample {job[0]}: {e}\")\n",
    "                    results.append(None)\n",
    "\n",
    "        # Collect successful extractions\n",
    "        instances = []\n",
    "        instance_labels = []\n",
    "        instance_experiments = []\n",
    "\n",
    "        for i, result in enumerate(results):\n",
    "            if result is not None:\n",
    "                cubes, label_type = result\n",
    "                instances.extend(cubes)\n",
    "                instance_labels.extend([label_type] * len(cubes))\n",
    "                instance_experiments.extend([experiments[i]] * len(cubes))\n",
    "\n",
    "        return np.array(instances), np.array(instance_labels), np.array(instance_experiments)\n",
    "\n",
    "    def _process_job(self, args):\n",
    "        \"\"\"Process single extraction job\"\"\"\n",
    "        scan_path, coord, cube_shape, coordSystem, label_type, apply_augment = args\n",
    "\n",
    "        try:\n",
    "            # Load scan\n",
    "            scan, spacing, orientation, origin, raw_slices = load_scan(scan_path)\n",
    "\n",
    "            # Convert coordinates if needed\n",
    "            if coordSystem == 'world':\n",
    "                coord = world2vox(coord, spacing, orientation, origin)\n",
    "\n",
    "            # Extract the base cube with padding\n",
    "            init_cube_shape = get_scaled_shape(np.array(cube_shape) + 8, 1/spacing)\n",
    "            clean_cube_unscaled = cutCube(scan, coord, init_cube_shape, padd=-1000)\n",
    "\n",
    "            # Scale the cube\n",
    "            scaled_cube, resize_factor = scale_scan(clean_cube_unscaled, spacing)\n",
    "\n",
    "            # Data augmentation (only if specified)\n",
    "            if apply_augment:\n",
    "                augmented_cubes = self._augment_instance(scaled_cube)\n",
    "            else:\n",
    "                augmented_cubes = [scaled_cube]\n",
    "\n",
    "            # Trim to final shape\n",
    "            final_cubes = []\n",
    "            for cube in augmented_cubes:\n",
    "                center = np.array(cube.shape) // 2\n",
    "                final_cube = cutCube(cube, center, cube_shape, padd=-1000)\n",
    "                if final_cube.shape == tuple(cube_shape):\n",
    "                    final_cubes.append(final_cube)\n",
    "\n",
    "            return final_cubes, label_type\n",
    "\n",
    "        except Exception as e:\n",
    "            print(f\"Error processing {scan_path}: {e}\")\n",
    "            return None\n",
    "\n",
    "    def _augment_instance(self, x0):\n",
    "        \"\"\"Data augmentation\"\"\"\n",
    "        augmented = [x0]  # Original\n",
    "\n",
    "        # Flips\n",
    "        augmented.append(np.flip(x0, 1))  # x flip\n",
    "        augmented.append(np.flip(x0, 2))  # y flip\n",
    "\n",
    "        # Small shifts\n",
    "        augmented.append(scipy.ndimage.shift(x0, (0, 2, 2), mode='constant'))\n",
    "        augmented.append(scipy.ndimage.shift(x0, (0, -2, 2), mode='constant'))\n",
    "\n",
    "        # Small rotations\n",
    "        for angle in [15, 30, 45, 90, 180]:\n",
    "            rotated = rotate(x0, angle, axes=(1, 2), mode='reflect', reshape=False)\n",
    "            augmented.append(rotated)\n",
    "\n",
    "        # Filter out invalid shapes\n",
    "        valid_cubes = []\n",
    "        for cube in augmented:\n",
    "            if cube.shape[0] > 0 and cube.shape[1] > 0 and cube.shape[2] > 0:\n",
    "                valid_cubes.append(cube)\n",
    "\n",
    "        return valid_cubes\n",
    "\n",
    "    def _plot_split_distributions(self, splits_data):\n",
    "        \"\"\"Plot distributions for each split\"\"\"\n",
    "        import matplotlib.pyplot as plt\n",
    "\n",
    "        fig, axes = plt.subplots(2, 2, figsize=(15, 10))\n",
    "\n",
    "        # Plot 1: Sample counts per split\n",
    "        split_names = list(splits_data.keys())\n",
    "        split_sizes = [len(splits_data[s]['instances']) for s in split_names]\n",
    "\n",
    "        axes[0, 0].bar(split_names, split_sizes, color=['#2E86AB', '#A23B72', '#F18F01'])\n",
    "        axes[0, 0].set_title('Sample Count per Split', fontsize=14, fontweight='bold')\n",
    "        axes[0, 0].set_ylabel('Number of Samples')\n",
    "\n",
    "        for i, (name, size) in enumerate(zip(split_names, split_sizes)):\n",
    "            axes[0, 0].text(i, size + 10, str(size), ha='center', fontweight='bold')\n",
    "\n",
    "        # Plot 2: Type distribution per split\n",
    "        width = 0.25\n",
    "        x = np.arange(len(split_names))\n",
    "\n",
    "        unique_types = ['FB', 'FM', 'TM','TB']\n",
    "        colors = {'FB': '#FF6B6B', 'FM': '#4ECDC4', 'TM': '#45B7D1','TB':'#6BFFFF'}\n",
    "\n",
    "        for i, ttype in enumerate(unique_types):\n",
    "            counts = []\n",
    "            for split_name in split_names:\n",
    "                type_count = np.sum(splits_data[split_name]['labels'] == ttype)\n",
    "                counts.append(type_count)\n",
    "\n",
    "            axes[0, 1].bar(x + i*width, counts, width, label=ttype, color=colors[ttype])\n",
    "\n",
    "        axes[0, 1].set_xlabel('Split')\n",
    "        axes[0, 1].set_ylabel('Number of Samples')\n",
    "        axes[0, 1].set_title('Type Distribution per Split', fontsize=14, fontweight='bold')\n",
    "        axes[0, 1].set_xticks(x + width)\n",
    "        axes[0, 1].set_xticklabels(split_names)\n",
    "        axes[0, 1].legend()\n",
    "\n",
    "        # Plot 3: Experiment distribution per split\n",
    "        unique_experiments = ['Experiment_1', 'Experiment_2']\n",
    "        exp_colors = ['#8B5A3C', '#6B8E23']\n",
    "\n",
    "        for i, exp in enumerate(unique_experiments):\n",
    "            counts = []\n",
    "            for split_name in split_names:\n",
    "                exp_count = np.sum(splits_data[split_name]['experiments'] == exp)\n",
    "                counts.append(exp_count)\n",
    "\n",
    "            axes[1, 0].bar(x + i*width*1.5, counts, width*1.5, label=exp, color=exp_colors[i])\n",
    "\n",
    "        axes[1, 0].set_xlabel('Split')\n",
    "        axes[1, 0].set_ylabel('Number of Samples')\n",
    "        axes[1, 0].set_title('Experiment Distribution per Split', fontsize=14, fontweight='bold')\n",
    "        axes[1, 0].set_xticks(x + width*0.75)\n",
    "        axes[1, 0].set_xticklabels(split_names)\n",
    "        axes[1, 0].legend()\n",
    "\n",
    "        # Plot 4: Augmentation effect (for training set)\n",
    "        if 'train' in splits_data:\n",
    "            train_labels = splits_data['train']['labels']\n",
    "            unique_labels, counts = np.unique(train_labels, return_counts=True)\n",
    "\n",
    "            # Estimate original counts (before augmentation)\n",
    "            # This is approximate based on the augmentation factor\n",
    "            original_train_size = len(self.combined_labels_df) * self.train_ratio\n",
    "            augmentation_factor = len(train_labels) / original_train_size\n",
    "\n",
    "            axes[1, 1].text(0.5, 0.5, f'Training Set Augmentation\\n\\nOriginal: ~{int(original_train_size)} samples\\n'\n",
    "                           f'After Augmentation: {len(train_labels)} samples\\n'\n",
    "                           f'Augmentation Factor: ~{augmentation_factor:.1f}x',\n",
    "                           ha='center', va='center', fontsize=12,\n",
    "                           bbox=dict(boxstyle='round', facecolor='lightblue', alpha=0.5))\n",
    "            axes[1, 1].set_title('Augmentation Summary', fontsize=14, fontweight='bold')\n",
    "            axes[1, 1].axis('off')\n",
    "\n",
    "        plt.tight_layout()\n",
    "        plt.suptitle('Data Split Analysis', fontsize=16, fontweight='bold', y=1.02)\n",
    "        plt.show()\n"
   ],
   "id": "5f0ad664e821e047",
   "outputs": [],
   "execution_count": 3
  },
  {
   "metadata": {
    "ExecuteTime": {
     "end_time": "2025-08-07T21:04:43.949788Z",
     "start_time": "2025-08-07T21:04:43.940863Z"
    }
   },
   "cell_type": "code",
   "source": [
    "class CombinedDataLoader:\n",
    "    \"\"\"\n",
    "    Data loader for combined dataset with split support\n",
    "    \"\"\"\n",
    "    def __init__(self, dataset_base_path, normdata_path, img_res=(32, 32, 32)):\n",
    "        self.dataset_base_path = dataset_base_path\n",
    "        self.normdata_path = normdata_path\n",
    "        self.img_res = img_res\n",
    "        self.splits = {}\n",
    "\n",
    "        # Load metadata\n",
    "        import json\n",
    "        metadata_path = dataset_base_path.replace('.npy', '_metadata.json')\n",
    "        with open(metadata_path, 'r') as f:\n",
    "            self.metadata = json.load(f)\n",
    "\n",
    "        # Load each split\n",
    "        for split in ['train', 'val', 'test']:\n",
    "            split_path = dataset_base_path.replace('.npy', f'_{split}.npy')\n",
    "            if os.path.exists(split_path):\n",
    "                print(f\"\\nLoading {split} set...\")\n",
    "\n",
    "                data = np.load(split_path)\n",
    "                labels = np.load(split_path.replace('.npy', '_labels.npy'))\n",
    "                experiments = np.load(split_path.replace('.npy', '_experiments.npy'))\n",
    "\n",
    "                # Format for neural network\n",
    "                data = data.reshape((len(data), self.img_res[0], self.img_res[1], self.img_res[2], 1))\n",
    "\n",
    "                # Convert labels to indices\n",
    "                label_to_idx = self.metadata['label_mapping']\n",
    "                label_indices = np.array([label_to_idx[label] for label in labels])\n",
    "\n",
    "                self.splits[split] = {\n",
    "                    'data': data,\n",
    "                    'labels': labels,\n",
    "                    'label_indices': label_indices,\n",
    "                    'experiments': experiments\n",
    "                }\n",
    "\n",
    "                print(f\"Loaded {len(data)} samples for {split}\")\n",
    "                print(f\"Label distribution: {dict(zip(*np.unique(labels, return_counts=True)))}\")\n",
    "\n",
    "    def get_split(self, split_name):\n",
    "        \"\"\"Get a specific split\"\"\"\n",
    "        if split_name not in self.splits:\n",
    "            raise ValueError(f\"Split '{split_name}' not found. Available splits: {list(self.splits.keys())}\")\n",
    "        return self.splits[split_name]\n",
    "\n",
    "    def load_batch(self, split_name='train', batch_size=32, shuffle=True):\n",
    "        \"\"\"Load batches from a specific split\"\"\"\n",
    "        if split_name not in self.splits:\n",
    "            raise ValueError(f\"Split '{split_name}' not found\")\n",
    "\n",
    "        split_data = self.splits[split_name]\n",
    "        data = split_data['data']\n",
    "        labels = split_data['label_indices']\n",
    "\n",
    "        indices = np.arange(len(data))\n",
    "        if shuffle:\n",
    "            indices = np.random.permutation(indices)\n",
    "\n",
    "        n_batches = len(indices) // batch_size\n",
    "\n",
    "        for i in range(n_batches):\n",
    "            batch_indices = indices[i * batch_size:(i + 1) * batch_size]\n",
    "            batch_data = data[batch_indices]\n",
    "            batch_labels = labels[batch_indices]\n",
    "\n",
    "            yield batch_data, batch_labels"
   ],
   "id": "8e2c0a80c4f2d0e",
   "outputs": [],
   "execution_count": 4
  },
  {
   "metadata": {
    "ExecuteTime": {
     "end_time": "2025-08-07T21:04:44.000771Z",
     "start_time": "2025-08-07T21:04:43.997823Z"
    }
   },
   "cell_type": "code",
   "source": [
    "import ssl\n",
    "ssl._create_default_https_context = ssl._create_unverified_context"
   ],
   "id": "dfe3550498cd0e71",
   "outputs": [],
   "execution_count": 5
  },
  {
   "metadata": {
    "ExecuteTime": {
     "end_time": "2025-08-07T21:04:44.052875Z",
     "start_time": "2025-08-07T21:04:44.046272Z"
    }
   },
   "cell_type": "code",
   "source": [
    "def pick_tb_voxel_from_lung_only(lung_coords, margin=16, volume_shape=None):\n",
    "\n",
    "    lung_coords = np.array(lung_coords)\n",
    "\n",
    "    if volume_shape is not None:\n",
    "        z_max, y_max, x_max = volume_shape\n",
    "        safe_mask = (\n",
    "            (lung_coords[:, 0] >= margin) & (lung_coords[:, 0] < z_max - margin) &\n",
    "            (lung_coords[:, 1] >= margin) & (lung_coords[:, 1] < y_max - margin) &\n",
    "            (lung_coords[:, 2] >= margin) & (lung_coords[:, 2] < x_max - margin)\n",
    "        )\n",
    "        lung_coords = lung_coords[safe_mask]\n",
    "\n",
    "    if len(lung_coords) == 0:\n",
    "        raise ValueError(\"No safe TB voxel found in lung.\")\n",
    "\n",
    "    # Pick a random safe point\n",
    "    idx = np.random.choice(len(lung_coords))\n",
    "    return lung_coords[idx].tolist()"
   ],
   "id": "b487325f6d3c7b5d",
   "outputs": [],
   "execution_count": 6
  },
  {
   "metadata": {
    "ExecuteTime": {
     "end_time": "2025-08-07T21:04:44.118499Z",
     "start_time": "2025-08-07T21:04:44.115321Z"
    }
   },
   "cell_type": "code",
   "source": [
    "def extract_patient_info(exp):\n",
    "    exp_tb_rows = exp[exp['type'] == 'TB']\n",
    "    exp_non_tb_rows = exp[exp['type'].isin(['FB','FM','TM'])]\n",
    "\n",
    "    tb_patient_ids = list(exp_tb_rows['uuid'])\n",
    "    print(tb_patient_ids)\n",
    "    return tb_patient_ids,exp_non_tb_rows"
   ],
   "id": "bb0f67de0b8869b1",
   "outputs": [],
   "execution_count": 7
  },
  {
   "metadata": {
    "ExecuteTime": {
     "end_time": "2025-08-07T21:05:11.209086Z",
     "start_time": "2025-08-07T21:04:44.177086Z"
    }
   },
   "cell_type": "code",
   "source": [
    "import SimpleITK as sitk\n",
    "import lungmask\n",
    "from lungmask import mask\n",
    "from lungmask import LMInferer\n",
    "\n",
    "def generate_TB_coords(patient_ids, exp):\n",
    "    reader = sitk.ImageSeriesReader()\n",
    "\n",
    "    inferer = LMInferer(batch_size=1)  # or device='cuda' if you have a GPU\n",
    "    patient_id_coords = {}\n",
    "    for tb_patient_id in patient_ids:\n",
    "        dicom_names = reader.GetGDCMSeriesFileNames(os.path.join(exp,str(tb_patient_id)))\n",
    "        reader.SetFileNames(dicom_names)\n",
    "        ct_image = reader.Execute()\n",
    "        lung_mask = inferer.apply(ct_image)  # returns SimpleITK.Image\n",
    "        lung_coords = np.argwhere(lung_mask == 1)\n",
    "        volume_shape = lung_mask.shape\n",
    "\n",
    "        tb_coord = pick_tb_voxel_from_lung_only(lung_coords, margin=16, volume_shape=volume_shape)\n",
    "        patient_id_coords[str(tb_patient_id)] = tb_coord\n",
    "        print(f'TB coordinate for patient {tb_patient_id}: {tb_coord}')\n",
    "    return patient_id_coords"
   ],
   "id": "23fbc121b17ee19b",
   "outputs": [],
   "execution_count": 8
  },
  {
   "metadata": {
    "ExecuteTime": {
     "end_time": "2025-08-07T21:05:11.233064Z",
     "start_time": "2025-08-07T21:05:11.223996Z"
    }
   },
   "cell_type": "code",
   "source": [
    "def build_final_label_csv(patient_id_coords,exp_non_tb_rows,exp_name):\n",
    "    rows = []\n",
    "    for k,v in patient_id_coords.items():\n",
    "        rows.append({\n",
    "            'type':'TB',\n",
    "            'uuid':k,\n",
    "            'slice':v[0],\n",
    "            'x':v[2],\n",
    "            'y':v[1],\n",
    "\n",
    "        })\n",
    "    tb_rows = pd.DataFrame(rows)\n",
    "    adj_exp_df = pd.concat([exp_non_tb_rows, tb_rows],ignore_index=True)\n",
    "    adj_exp_df.to_csv(f'labels_{exp_name}_TB.csv')"
   ],
   "id": "e318984116737855",
   "outputs": [],
   "execution_count": 9
  },
  {
   "metadata": {
    "ExecuteTime": {
     "end_time": "2025-08-07T21:20:56.963058Z",
     "start_time": "2025-08-07T21:05:11.282602Z"
    }
   },
   "cell_type": "code",
   "source": [
    "# Generalized code to update the TB\n",
    "exp1 = pd.read_csv(os.path.expanduser(\"~/PycharmProjects/PythonProject/MIDS_207_Final_Project/deepfakes+medical+image+tamper+detection/data/Tampered Scans/labels_exp1.csv\"))\n",
    "exp2 = pd.read_csv(os.path.expanduser(\"~/PycharmProjects/PythonProject/MIDS_207_Final_Project/deepfakes+medical+image+tamper+detection/data/Tampered Scans/labels_exp2.csv\"))\n",
    "exp1_dicom_parent_folder = os.path.expanduser(\"~/PycharmProjects/PythonProject/MIDS_207_Final_Project/deepfakes+medical+image+tamper+detection/data/Tampered Scans/Experiment 1 - Blind\")\n",
    "exp2_dicom_parent_folder = os.path.expanduser(\"~/PycharmProjects/PythonProject/MIDS_207_Final_Project/deepfakes+medical+image+tamper+detection/data/Tampered Scans/Experiment 2 - Open\")\n",
    "exp_count = 0\n",
    "for exp in [(exp1,exp1_dicom_parent_folder), (exp2,exp2_dicom_parent_folder)]:\n",
    "    patient_ids,exp_non_tb_rows = extract_patient_info(exp[0])\n",
    "    patient_id_coords = generate_TB_coords(patient_ids, exp[1])\n",
    "    build_final_label_csv(patient_id_coords,exp_non_tb_rows,''.join(['exp_',str(exp_count)]))\n",
    "    exp_count += 1"
   ],
   "id": "3b4cbbfc0d7f2405",
   "outputs": [
    {
     "name": "stdout",
     "output_type": "stream",
     "text": [
      "[6644, 1531, 1779, 1779, 1779, 1779, 1632, 2925, 2104, 2104, 2104, 4474, 6080, 3361, 1840]\n",
      "lungmask 2025-08-07 14:05:14 An Apple Metal device is detected and will be used. Use --cpu to disable Metal and force running on CPU.\n"
     ]
    },
    {
     "name": "stderr",
     "output_type": "stream",
     "text": [
      "100%|██████████| 163/163.0 [00:40<00:00,  4.07it/s]"
     ]
    },
    {
     "name": "stdout",
     "output_type": "stream",
     "text": [
      "lungmask 2025-08-07 14:05:58 Postprocessing\n"
     ]
    },
    {
     "name": "stderr",
     "output_type": "stream",
     "text": [
      "\n",
      "100%|██████████| 3/3 [00:00<00:00, 109.35it/s]\n"
     ]
    },
    {
     "name": "stdout",
     "output_type": "stream",
     "text": [
      "TB coordinate for patient 6644: [141, 278, 162]\n"
     ]
    },
    {
     "name": "stderr",
     "output_type": "stream",
     "text": [
      "100%|██████████| 129/129.0 [00:29<00:00,  4.31it/s]"
     ]
    },
    {
     "name": "stdout",
     "output_type": "stream",
     "text": [
      "lungmask 2025-08-07 14:06:33 Postprocessing\n"
     ]
    },
    {
     "name": "stderr",
     "output_type": "stream",
     "text": [
      "\n",
      "100%|██████████| 2/2 [00:00<00:00, 599.74it/s]\n"
     ]
    },
    {
     "name": "stdout",
     "output_type": "stream",
     "text": [
      "TB coordinate for patient 1531: [59, 150, 128]\n"
     ]
    },
    {
     "name": "stderr",
     "output_type": "stream",
     "text": [
      "100%|██████████| 133/133.0 [00:30<00:00,  4.31it/s]"
     ]
    },
    {
     "name": "stdout",
     "output_type": "stream",
     "text": [
      "lungmask 2025-08-07 14:07:10 Postprocessing\n"
     ]
    },
    {
     "name": "stderr",
     "output_type": "stream",
     "text": [
      "\n",
      "100%|██████████| 2/2 [00:00<00:00, 605.54it/s]\n"
     ]
    },
    {
     "name": "stdout",
     "output_type": "stream",
     "text": [
      "TB coordinate for patient 1779: [80, 282, 256]\n"
     ]
    },
    {
     "name": "stderr",
     "output_type": "stream",
     "text": [
      "100%|██████████| 133/133.0 [00:31<00:00,  4.26it/s]"
     ]
    },
    {
     "name": "stdout",
     "output_type": "stream",
     "text": [
      "lungmask 2025-08-07 14:07:45 Postprocessing\n"
     ]
    },
    {
     "name": "stderr",
     "output_type": "stream",
     "text": [
      "\n",
      "100%|██████████| 2/2 [00:00<00:00, 587.07it/s]\n"
     ]
    },
    {
     "name": "stdout",
     "output_type": "stream",
     "text": [
      "TB coordinate for patient 1779: [103, 331, 206]\n"
     ]
    },
    {
     "name": "stderr",
     "output_type": "stream",
     "text": [
      "100%|██████████| 133/133.0 [00:31<00:00,  4.27it/s]"
     ]
    },
    {
     "name": "stdout",
     "output_type": "stream",
     "text": [
      "lungmask 2025-08-07 14:08:19 Postprocessing\n"
     ]
    },
    {
     "name": "stderr",
     "output_type": "stream",
     "text": [
      "\n",
      "100%|██████████| 2/2 [00:00<00:00, 661.61it/s]\n"
     ]
    },
    {
     "name": "stdout",
     "output_type": "stream",
     "text": [
      "TB coordinate for patient 1779: [56, 380, 162]\n"
     ]
    },
    {
     "name": "stderr",
     "output_type": "stream",
     "text": [
      "100%|██████████| 133/133.0 [00:31<00:00,  4.28it/s]"
     ]
    },
    {
     "name": "stdout",
     "output_type": "stream",
     "text": [
      "lungmask 2025-08-07 14:08:54 Postprocessing\n"
     ]
    },
    {
     "name": "stderr",
     "output_type": "stream",
     "text": [
      "\n",
      "100%|██████████| 2/2 [00:00<00:00, 630.30it/s]\n"
     ]
    },
    {
     "name": "stdout",
     "output_type": "stream",
     "text": [
      "TB coordinate for patient 1779: [112, 219, 208]\n"
     ]
    },
    {
     "name": "stderr",
     "output_type": "stream",
     "text": [
      "100%|██████████| 237/237.0 [00:55<00:00,  4.27it/s]"
     ]
    },
    {
     "name": "stdout",
     "output_type": "stream",
     "text": [
      "lungmask 2025-08-07 14:09:56 Postprocessing\n"
     ]
    },
    {
     "name": "stderr",
     "output_type": "stream",
     "text": [
      "\n",
      "100%|██████████| 9/9 [00:00<00:00, 48.70it/s]\n"
     ]
    },
    {
     "name": "stdout",
     "output_type": "stream",
     "text": [
      "TB coordinate for patient 1632: [190, 220, 191]\n"
     ]
    },
    {
     "name": "stderr",
     "output_type": "stream",
     "text": [
      "100%|██████████| 127/127.0 [00:29<00:00,  4.24it/s]"
     ]
    },
    {
     "name": "stdout",
     "output_type": "stream",
     "text": [
      "lungmask 2025-08-07 14:10:32 Postprocessing\n"
     ]
    },
    {
     "name": "stderr",
     "output_type": "stream",
     "text": [
      "\n",
      "100%|██████████| 7/7 [00:00<00:00, 68.53it/s]\n"
     ]
    },
    {
     "name": "stdout",
     "output_type": "stream",
     "text": [
      "TB coordinate for patient 2925: [70, 278, 88]\n"
     ]
    },
    {
     "name": "stderr",
     "output_type": "stream",
     "text": [
      "100%|██████████| 117/117.0 [00:27<00:00,  4.23it/s]"
     ]
    },
    {
     "name": "stdout",
     "output_type": "stream",
     "text": [
      "lungmask 2025-08-07 14:11:04 Postprocessing\n"
     ]
    },
    {
     "name": "stderr",
     "output_type": "stream",
     "text": [
      "\n",
      "100%|██████████| 10/10 [00:00<00:00, 75.16it/s]\n"
     ]
    },
    {
     "name": "stdout",
     "output_type": "stream",
     "text": [
      "TB coordinate for patient 2104: [57, 196, 127]\n"
     ]
    },
    {
     "name": "stderr",
     "output_type": "stream",
     "text": [
      "100%|██████████| 117/117.0 [00:26<00:00,  4.37it/s]"
     ]
    },
    {
     "name": "stdout",
     "output_type": "stream",
     "text": [
      "lungmask 2025-08-07 14:11:34 Postprocessing\n"
     ]
    },
    {
     "name": "stderr",
     "output_type": "stream",
     "text": [
      "\n",
      "100%|██████████| 10/10 [00:00<00:00, 71.25it/s]\n"
     ]
    },
    {
     "name": "stdout",
     "output_type": "stream",
     "text": [
      "TB coordinate for patient 2104: [45, 356, 209]\n"
     ]
    },
    {
     "name": "stderr",
     "output_type": "stream",
     "text": [
      "100%|██████████| 117/117.0 [00:26<00:00,  4.35it/s]"
     ]
    },
    {
     "name": "stdout",
     "output_type": "stream",
     "text": [
      "lungmask 2025-08-07 14:12:04 Postprocessing\n"
     ]
    },
    {
     "name": "stderr",
     "output_type": "stream",
     "text": [
      "\n",
      "100%|██████████| 10/10 [00:00<00:00, 78.92it/s]\n"
     ]
    },
    {
     "name": "stdout",
     "output_type": "stream",
     "text": [
      "TB coordinate for patient 2104: [78, 339, 157]\n"
     ]
    },
    {
     "name": "stderr",
     "output_type": "stream",
     "text": [
      "100%|██████████| 124/124.0 [00:28<00:00,  4.36it/s]"
     ]
    },
    {
     "name": "stdout",
     "output_type": "stream",
     "text": [
      "lungmask 2025-08-07 14:12:37 Postprocessing\n"
     ]
    },
    {
     "name": "stderr",
     "output_type": "stream",
     "text": [
      "\n",
      "100%|██████████| 3/3 [00:00<00:00, 148.99it/s]\n"
     ]
    },
    {
     "name": "stdout",
     "output_type": "stream",
     "text": [
      "TB coordinate for patient 4474: [96, 354, 128]\n"
     ]
    },
    {
     "name": "stderr",
     "output_type": "stream",
     "text": [
      "100%|██████████| 278/278.0 [01:07<00:00,  4.09it/s]"
     ]
    },
    {
     "name": "stdout",
     "output_type": "stream",
     "text": [
      "lungmask 2025-08-07 14:13:52 Postprocessing\n"
     ]
    },
    {
     "name": "stderr",
     "output_type": "stream",
     "text": [
      "\n",
      "100%|██████████| 11/11 [00:00<00:00, 88.37it/s]\n"
     ]
    },
    {
     "name": "stdout",
     "output_type": "stream",
     "text": [
      "TB coordinate for patient 6080: [80, 340, 124]\n"
     ]
    },
    {
     "name": "stderr",
     "output_type": "stream",
     "text": [
      "100%|██████████| 255/255.0 [00:59<00:00,  4.30it/s]"
     ]
    },
    {
     "name": "stdout",
     "output_type": "stream",
     "text": [
      "lungmask 2025-08-07 14:15:00 Postprocessing\n"
     ]
    },
    {
     "name": "stderr",
     "output_type": "stream",
     "text": [
      "\n",
      "100%|██████████| 3/3 [00:00<00:00, 465.40it/s]\n"
     ]
    },
    {
     "name": "stdout",
     "output_type": "stream",
     "text": [
      "TB coordinate for patient 3361: [170, 210, 96]\n"
     ]
    },
    {
     "name": "stderr",
     "output_type": "stream",
     "text": [
      "100%|██████████| 116/116.0 [00:26<00:00,  4.34it/s]"
     ]
    },
    {
     "name": "stdout",
     "output_type": "stream",
     "text": [
      "lungmask 2025-08-07 14:15:34 Postprocessing\n"
     ]
    },
    {
     "name": "stderr",
     "output_type": "stream",
     "text": [
      "\n",
      "100%|██████████| 2/2 [00:00<00:00, 623.69it/s]\n"
     ]
    },
    {
     "name": "stdout",
     "output_type": "stream",
     "text": [
      "TB coordinate for patient 1840: [87, 241, 210]\n",
      "[3341, 1610, 1610, 2960, 1563, 2366]\n",
      "lungmask 2025-08-07 14:15:38 An Apple Metal device is detected and will be used. Use --cpu to disable Metal and force running on CPU.\n"
     ]
    },
    {
     "name": "stderr",
     "output_type": "stream",
     "text": [
      "100%|██████████| 139/139.0 [00:31<00:00,  4.36it/s]"
     ]
    },
    {
     "name": "stdout",
     "output_type": "stream",
     "text": [
      "lungmask 2025-08-07 14:16:13 Postprocessing\n"
     ]
    },
    {
     "name": "stderr",
     "output_type": "stream",
     "text": [
      "\n",
      "100%|██████████| 2/2 [00:00<00:00, 547.63it/s]\n"
     ]
    },
    {
     "name": "stdout",
     "output_type": "stream",
     "text": [
      "TB coordinate for patient 3341: [35, 320, 213]\n"
     ]
    },
    {
     "name": "stderr",
     "output_type": "stream",
     "text": [
      "100%|██████████| 133/133.0 [00:30<00:00,  4.35it/s]"
     ]
    },
    {
     "name": "stdout",
     "output_type": "stream",
     "text": [
      "lungmask 2025-08-07 14:16:48 Postprocessing\n"
     ]
    },
    {
     "name": "stderr",
     "output_type": "stream",
     "text": [
      "\n",
      "100%|██████████| 3/3 [00:00<00:00, 970.23it/s]\n"
     ]
    },
    {
     "name": "stdout",
     "output_type": "stream",
     "text": [
      "TB coordinate for patient 1610: [75, 165, 236]\n"
     ]
    },
    {
     "name": "stderr",
     "output_type": "stream",
     "text": [
      "100%|██████████| 133/133.0 [00:30<00:00,  4.38it/s]"
     ]
    },
    {
     "name": "stdout",
     "output_type": "stream",
     "text": [
      "lungmask 2025-08-07 14:17:22 Postprocessing\n"
     ]
    },
    {
     "name": "stderr",
     "output_type": "stream",
     "text": [
      "\n",
      "100%|██████████| 3/3 [00:00<00:00, 1004.38it/s]\n"
     ]
    },
    {
     "name": "stdout",
     "output_type": "stream",
     "text": [
      "TB coordinate for patient 1610: [92, 181, 182]\n"
     ]
    },
    {
     "name": "stderr",
     "output_type": "stream",
     "text": [
      "100%|██████████| 179/179.0 [00:40<00:00,  4.41it/s]"
     ]
    },
    {
     "name": "stdout",
     "output_type": "stream",
     "text": [
      "lungmask 2025-08-07 14:18:07 Postprocessing\n"
     ]
    },
    {
     "name": "stderr",
     "output_type": "stream",
     "text": [
      "\n",
      "100%|██████████| 3/3 [00:00<00:00, 98.22it/s]\n"
     ]
    },
    {
     "name": "stdout",
     "output_type": "stream",
     "text": [
      "TB coordinate for patient 2960: [57, 293, 84]\n"
     ]
    },
    {
     "name": "stderr",
     "output_type": "stream",
     "text": [
      "100%|██████████| 484/484.0 [01:53<00:00,  4.27it/s]"
     ]
    },
    {
     "name": "stdout",
     "output_type": "stream",
     "text": [
      "lungmask 2025-08-07 14:20:13 Postprocessing\n"
     ]
    },
    {
     "name": "stderr",
     "output_type": "stream",
     "text": [
      "\n",
      "100%|██████████| 4/4 [00:00<00:00, 25.08it/s]\n"
     ]
    },
    {
     "name": "stdout",
     "output_type": "stream",
     "text": [
      "TB coordinate for patient 1563: [206, 400, 191]\n"
     ]
    },
    {
     "name": "stderr",
     "output_type": "stream",
     "text": [
      "100%|██████████| 133/133.0 [00:30<00:00,  4.35it/s]"
     ]
    },
    {
     "name": "stdout",
     "output_type": "stream",
     "text": [
      "lungmask 2025-08-07 14:20:54 Postprocessing\n"
     ]
    },
    {
     "name": "stderr",
     "output_type": "stream",
     "text": [
      "\n",
      "100%|██████████| 2/2 [00:00<00:00, 679.85it/s]\n"
     ]
    },
    {
     "name": "stdout",
     "output_type": "stream",
     "text": [
      "TB coordinate for patient 2366: [56, 312, 217]\n"
     ]
    }
   ],
   "execution_count": 10
  },
  {
   "metadata": {
    "ExecuteTime": {
     "end_time": "2025-08-07T21:31:29.793768Z",
     "start_time": "2025-08-07T21:20:57.396322Z"
    }
   },
   "cell_type": "code",
   "source": [
    "if __name__ == \"__main__\":\n",
    "    # Configuration for combined dataset\n",
    "    base_path = os.path.expanduser(\"~/PycharmProjects/PythonProject/MIDS_207_Final_Project/deepfakes+medical+image+tamper+detection/data/Tampered Scans/\")\n",
    "\n",
    "    # Define experiments configuration\n",
    "    experiments_config = [\n",
    "        {\n",
    "            'labels_csv': os.path.join(base_path, \"labels_exp_1_TB.csv\"),\n",
    "            'dicom_dir': os.path.join(base_path, \"Experiment 1 - Blind\"),\n",
    "            'experiment_name': 'Experiment_1'\n",
    "        },\n",
    "        {\n",
    "            'labels_csv': os.path.join(base_path, \"labels_exp_2_TB.csv\"),\n",
    "            'dicom_dir': os.path.join(base_path, \"Experiment 2 - Open\"),\n",
    "            'experiment_name': 'Experiment_2'\n",
    "        }\n",
    "    ]\n",
    "\n",
    "    output_dataset = \"combined_tampered_scans_dataset.npy\"\n",
    "    normalization_dir = \"combined_tampered_scans_normalization\"\n",
    "\n",
    "    # Extract and preprocess combined dataset with split-first approach\n",
    "    extractor = CombinedLabeledExtractor(\n",
    "        experiments_config=experiments_config,\n",
    "        dst_path=output_dataset,\n",
    "        norm_save_dir=normalization_dir,\n",
    "        cube_shape=(32, 32, 32),\n",
    "        include_types=['FB', 'FM', 'TM','TB'],\n",
    "        augment=True,  # Will only be applied to training set\n",
    "        parallelize=False,\n",
    "        train_ratio=0.6,\n",
    "        val_ratio=0.2,\n",
    "        test_ratio=0.2,\n",
    "        random_state=42\n",
    "    )\n",
    "\n",
    "    splits_data, metadata = extractor.extract()\n",
    "\n",
    "    # Load the split datasets\n",
    "    if splits_data is not None:\n",
    "        dataloader = CombinedDataLoader(\n",
    "            dataset_base_path=output_dataset,\n",
    "            normdata_path=normalization_dir\n",
    "        )"
   ],
   "id": "b14ba73a8df813df",
   "outputs": [
    {
     "name": "stdout",
     "output_type": "stream",
     "text": [
      "\n",
      "Loading labels for Experiment_1...\n",
      "Loaded 128 samples from Experiment_1\n",
      "Types distribution:\n",
      "type\n",
      "FB    61\n",
      "FM    34\n",
      "TM    23\n",
      "TB    10\n",
      "Name: count, dtype: int64\n",
      "\n",
      "Loading labels for Experiment_2...\n",
      "Loaded 35 samples from Experiment_2\n",
      "Types distribution:\n",
      "type\n",
      "TM    12\n",
      "FB    11\n",
      "FM     7\n",
      "TB     5\n",
      "Name: count, dtype: int64\n",
      "\n",
      "Total combined samples: 163\n",
      "Combined types distribution:\n",
      "type\n",
      "FB    72\n",
      "FM    41\n",
      "TM    35\n",
      "TB    15\n",
      "Name: count, dtype: int64\n",
      "Samples per experiment:\n",
      "experiment\n",
      "Experiment_1    128\n",
      "Experiment_2     35\n",
      "Name: count, dtype: int64\n",
      "\n",
      "Preparing extraction jobs for combined dataset...\n",
      "\n",
      "Creating train/val/test splits...\n",
      "Split sizes:\n",
      "  Train: 97 samples (59.5%)\n",
      "  Val: 33 samples (20.2%)\n",
      "  Test: 33 samples (20.2%)\n",
      "\n",
      "Train set distribution:\n",
      "type\n",
      "FB    44\n",
      "FM    24\n",
      "TM    20\n",
      "TB     9\n",
      "Name: count, dtype: int64\n",
      "\n",
      "Val set distribution:\n",
      "type\n",
      "FB    14\n",
      "FM     9\n",
      "TM     7\n",
      "TB     3\n",
      "Name: count, dtype: int64\n",
      "\n",
      "Test set distribution:\n",
      "type\n",
      "FB    14\n",
      "TM     8\n",
      "FM     8\n",
      "TB     3\n",
      "Name: count, dtype: int64\n",
      "\n",
      "==================================================\n",
      "Processing train set (97 samples)...\n",
      "Augmentation: ON\n",
      "Extracting 97 samples...\n",
      "Processed 1/97 samples\n",
      "Processed 11/97 samples\n",
      "Processed 21/97 samples\n",
      "Processed 31/97 samples\n",
      "Processed 41/97 samples\n",
      "Processed 51/97 samples\n",
      "Processed 61/97 samples\n",
      "Processed 71/97 samples\n",
      "Processed 81/97 samples\n",
      "Processed 91/97 samples\n",
      "Successfully extracted 970 instances for train\n",
      "\n",
      "==================================================\n",
      "Processing val set (33 samples)...\n",
      "Augmentation: OFF\n",
      "Extracting 33 samples...\n",
      "Processed 1/33 samples\n",
      "Processed 11/33 samples\n",
      "Processed 21/33 samples\n",
      "Processed 31/33 samples\n",
      "Successfully extracted 33 instances for val\n",
      "\n",
      "==================================================\n",
      "Processing test set (33 samples)...\n",
      "Augmentation: OFF\n",
      "Extracting 33 samples...\n",
      "Processed 1/33 samples\n",
      "Processed 11/33 samples\n",
      "Processed 21/33 samples\n",
      "Processed 31/33 samples\n",
      "Successfully extracted 33 instances for test\n",
      "\n",
      "\n",
      "Equalizing the data across all splits...\n",
      "Normalizing the data...\n",
      "\n",
      "\n",
      "Saving the split datasets...\n",
      "Saved train set: 970 samples\n",
      "Saved val set: 33 samples\n",
      "Saved test set: 33 samples\n",
      "\n",
      "Label mapping: {'FB': 0, 'FM': 1, 'TB': 2, 'TM': 3}\n",
      "Experiment mapping: {'Experiment_1': 0, 'Experiment_2': 1}\n",
      "\n",
      "Final split sizes:\n",
      "  train: 970 samples\n",
      "  val: 33 samples\n",
      "  test: 33 samples\n"
     ]
    },
    {
     "data": {
      "text/plain": [
       "<Figure size 1500x1000 with 4 Axes>"
      ],
      "image/png": "[encoded data removed]"
     },
     "metadata": {},
     "output_type": "display_data"
    },
    {
     "name": "stdout",
     "output_type": "stream",
     "text": [
      "\n",
      "Loading train set...\n",
      "Loaded 970 samples for train\n",
      "Label distribution: {'FB': 440, 'FM': 240, 'TB': 90, 'TM': 200}\n",
      "\n",
      "Loading val set...\n",
      "Loaded 33 samples for val\n",
      "Label distribution: {'FB': 14, 'FM': 9, 'TB': 3, 'TM': 7}\n",
      "\n",
      "Loading test set...\n",
      "Loaded 33 samples for test\n",
      "Label distribution: {'FB': 14, 'FM': 8, 'TB': 3, 'TM': 8}\n"
     ]
    }
   ],
   "execution_count": 11
  }
 ],
 "metadata": {
  "kernelspec": {
   "display_name": "Python 3",
   "language": "python",
   "name": "python3"
  },
  "language_info": {
   "codemirror_mode": {
    "name": "ipython",
    "version": 2
   },
   "file_extension": ".py",
   "mimetype": "text/x-python",
   "name": "python",
   "nbconvert_exporter": "python",
   "pygments_lexer": "ipython2",
   "version": "2.7.6"
  }
 },
 "nbformat": 4,
 "nbformat_minor": 5
}
